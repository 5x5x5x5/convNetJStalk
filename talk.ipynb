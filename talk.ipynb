{
 "cells": [
  {
   "cell_type": "markdown",
   "metadata": {
    "slideshow": {
     "slide_type": "slide"
    }
   },
   "source": [
    "# Deep Learning in a Browser\n",
    "## with ConvNetJS\n",
    "\n",
    "\n",
    "\n",
    "Follow along at [https://5x5x5x5.github.io/convNetJStalk/](https://5x5x5x5.github.io/convNetJStalk/)"
   ]
  },
  {
   "cell_type": "markdown",
   "metadata": {
    "slideshow": {
     "slide_type": "slide"
    }
   },
   "source": [
    "## State of the Art Applications\n",
    "\n",
    "- Speech Recognition\n",
    "- Image Recognition"
   ]
  },
  {
   "cell_type": "markdown",
   "metadata": {
    "slideshow": {
     "slide_type": "slide"
    }
   },
   "source": [
    "# Burdened by Terminology\n",
    "\n",
    "1. Neurons\n",
    "2. Neural Networks\n",
    "\n",
    "These techniques do not capture the [complexity of brains](http://timdettmers.com/2015/07/27/brain-vs-deep-learning-singularity/), but rather were inspired by what was know about neuron function in the '50s.\n"
   ]
  },
  {
   "cell_type": "markdown",
   "metadata": {
    "slideshow": {
     "slide_type": "subslide"
    }
   },
   "source": [
    "### These terms might be the best we've got, but don't confuse them for the real thing.\n",
    "<img src=img/cast_away.jpg>\n",
    "# Wilson!"
   ]
  },
  {
   "cell_type": "markdown",
   "metadata": {
    "collapsed": true,
    "slideshow": {
     "slide_type": "slide"
    }
   },
   "source": [
    "# Neural Networks\n",
    "\n",
    "are concerned with the problem of learning a function from one space to another space, using data.\n",
    "\n",
    "<img src=img/mapping.gif>"
   ]
  },
  {
   "cell_type": "markdown",
   "metadata": {
    "collapsed": true,
    "slideshow": {
     "slide_type": "slide"
    }
   },
   "source": [
    "# The Neuron\n",
    "\n",
    "<img src=img/nnbg2.gif>\n",
    "\n",
    "- The building block is the neuron.\n",
    "- A very simple computational element.\n",
    "- Computes a very simple function of its inputs\n",
    "- Activations and weights summed\n",
    "- Activation function"
   ]
  },
  {
   "cell_type": "markdown",
   "metadata": {
    "slideshow": {
     "slide_type": "slide"
    }
   },
   "source": [
    "# A Neural Network\n",
    "\n",
    "<img src=img/NeuralNetwork.png>"
   ]
  },
  {
   "cell_type": "markdown",
   "metadata": {
    "slideshow": {
     "slide_type": "slide"
    }
   },
   "source": [
    "# Learning Algorithm\n",
    "\n",
    "- *While* not done\n",
    "  - pick a random training case *(x -> y)*\n",
    "  - run neural network on *x*\n",
    "  - modify connections to make reduce error\n",
    "    - derivative of error function points to direction of change\n",
    "    - step size indicates magnitude of change"
   ]
  },
  {
   "cell_type": "code",
   "execution_count": null,
   "metadata": {
    "collapsed": true,
    "slideshow": {
     "slide_type": "slide"
    }
   },
   "outputs": [],
   "source": []
  }
 ],
 "metadata": {
  "celltoolbar": "Slideshow",
  "kernelspec": {
   "display_name": "Python 3",
   "language": "python",
   "name": "python3"
  },
  "language_info": {
   "codemirror_mode": {
    "name": "ipython",
    "version": 3
   },
   "file_extension": ".py",
   "mimetype": "text/x-python",
   "name": "python",
   "nbconvert_exporter": "python",
   "pygments_lexer": "ipython3",
   "version": "3.4.3"
  }
 },
 "nbformat": 4,
 "nbformat_minor": 0
}
